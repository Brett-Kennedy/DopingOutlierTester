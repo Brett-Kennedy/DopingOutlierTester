{
 "cells": [
  {
   "cell_type": "code",
   "execution_count": 1,
   "id": "2ea73ea8",
   "metadata": {},
   "outputs": [],
   "source": [
    "import pandas as pd\n",
    "import numpy as np\n",
    "from sklearn.datasets import fetch_openml\n",
    "from sklearn.ensemble import IsolationForest\n",
    "import scipy.stats\n",
    "import matplotlib.pyplot as plt\n",
    "import seaborn as sns\n",
    "\n",
    "import sys\n",
    "sys.path.insert(0, \"..\")\n",
    "from outliers_test import DopingOutliersTest"
   ]
  },
  {
   "cell_type": "markdown",
   "id": "3136f7ef",
   "metadata": {},
   "source": [
    "### Collect a dataset from OpenML"
   ]
  },
  {
   "cell_type": "code",
   "execution_count": 2,
   "id": "ccc9fac4",
   "metadata": {},
   "outputs": [],
   "source": [
    "data = fetch_openml('breast-w', version=1)\n",
    "df = pd.DataFrame(data.data, columns=data.feature_names)"
   ]
  },
  {
   "cell_type": "markdown",
   "id": "bd488df3",
   "metadata": {},
   "source": [
    "### Use DopingOutliersTest to tranform the data into a format with known outliers"
   ]
  },
  {
   "cell_type": "code",
   "execution_count": 3,
   "id": "2183602e",
   "metadata": {},
   "outputs": [],
   "source": [
    "data_modifier = DopingOutliersTest()\n",
    "df_modified, outlier_scores = data_modifier.transform(df, random_state=0, verbose=False)"
   ]
  },
  {
   "cell_type": "markdown",
   "id": "1478a461",
   "metadata": {},
   "source": [
    "### Function to provide Count Encoding for categorical values"
   ]
  },
  {
   "cell_type": "code",
   "execution_count": 4,
   "id": "26ba5f74",
   "metadata": {},
   "outputs": [],
   "source": [
    "# This example uses Isolation Forest, which works strictly with numeric values,\n",
    "# requiring all categorical values to be either dropped or encoded. There\n",
    "# are many possible encoders, such as one-hot, label etc, but Count Encoding\n",
    "# tends to work well with outlier detection. Count Encoding is available in \n",
    "# python modules, but to minimize pip installs, and as it is very simple, it \n",
    "# is provided here.\n",
    "\n",
    "def get_count_encoding(df):\n",
    "    df = df.copy()\n",
    "    for col_name in df.columns:\n",
    "        if df[col_name].dtype.name in ['str', 'category', 'object']:\n",
    "            df[col_name] = df[col_name].astype(str)\n",
    "            vc = df[col_name].value_counts(dropna=False)\n",
    "            df[col_name] = df[col_name].replace([None, np.nan, -np.nan, 'nan'], df[col_name].mode()[0])\n",
    "            map_dict = {x: y for x, y in zip(vc.index, vc.values)}\n",
    "            df[col_name] = df[col_name].map(map_dict)\n",
    "            df[col_name] = df[col_name].astype(str)\n",
    "    return df"
   ]
  },
  {
   "cell_type": "markdown",
   "id": "ab82519b",
   "metadata": {},
   "source": [
    "### Get IsolationForest (IF) scores on original data"
   ]
  },
  {
   "cell_type": "code",
   "execution_count": 5,
   "id": "7bfb4b63",
   "metadata": {},
   "outputs": [],
   "source": [
    "# We first encode the data in a format suitable for IF\n",
    "df_encoded = get_count_encoding(df)\n",
    "df_encoded = df_encoded.fillna(0)\n",
    "df_encoded = df_encoded.replace([np.nan, -np.nan], 0)\n",
    "\n",
    "det = IsolationForest(random_state=0)\n",
    "det.fit(df_encoded)\n",
    "y_orig_if = det.score_samples(df_encoded)"
   ]
  },
  {
   "cell_type": "markdown",
   "id": "99a49e6b",
   "metadata": {},
   "source": [
    "### Get IF scores on the modified dataset"
   ]
  },
  {
   "cell_type": "code",
   "execution_count": 6,
   "id": "ce551f7e",
   "metadata": {},
   "outputs": [],
   "source": [
    "df_modified_encoded = get_count_encoding(df_modified)\n",
    "df_modified_encoded = df_modified_encoded.fillna(0)\n",
    "df_modified_encoded = df_modified_encoded.replace([np.nan, -np.nan], 0)\n",
    "\n",
    "det = IsolationForest(random_state=0)\n",
    "det.fit(df_modified_encoded)\n",
    "y_modified_if = det.score_samples(df_modified_encoded)"
   ]
  },
  {
   "cell_type": "markdown",
   "id": "b6acca72",
   "metadata": {},
   "source": [
    "### Examine and compare the IF Scores"
   ]
  },
  {
   "cell_type": "code",
   "execution_count": 7,
   "id": "761af6a9",
   "metadata": {},
   "outputs": [],
   "source": [
    "# The Doping Outliers Test tool cannot estimate how unusual any row is, \n",
    "# only how unusual it likely is compared to its state before the doping\n",
    "# process. As such, to evaluate how well IF does in identifying the modified\n",
    "# rows, we get the IF score of each row before and after the doping process\n",
    "# and examine the difference in IF scores.\n",
    "\n",
    "# As IF is known to be a strong outlier detector, the gains in outlier scores\n",
    "# for the modified rows should be higher than for the unmodified rows, which\n",
    "# is, in fact, the case. \n",
    "\n",
    "# IF gives more negative scores to more anomalous rows. To examine the outlierness\n",
    "# of each row in positive terms, we multiply each score by -1.\n",
    "\n",
    "df_modified['IF Orig Score'] = y_orig_if * (-1)\n",
    "df_modified['IF Modified Score'] = y_modified_if * (-1)\n",
    "df_modified['IF Gain'] = df_modified['IF Modified Score'] - df_modified['IF Orig Score']\n",
    "df_modified['IF Gain Cleaned'] = df_modified['IF Gain'].apply(lambda x: 0 if x <= 0.0 else x)"
   ]
  },
  {
   "cell_type": "code",
   "execution_count": 8,
   "id": "23691c44",
   "metadata": {},
   "outputs": [],
   "source": [
    "# Store the outlier score estimated by the doping tool\n",
    "df_modified['OUTLIER SCORE'] = outlier_scores"
   ]
  },
  {
   "cell_type": "code",
   "execution_count": 9,
   "id": "0adbbcfc",
   "metadata": {},
   "outputs": [
    {
     "name": "stdout",
     "output_type": "stream",
     "text": [
      "Spearman Correlation Orig to Modified IF scores:  0.9788390090419434\n",
      "Spearman Correlation Gain IF scores to Estimated Scores:  0.9141700765210943\n"
     ]
    }
   ],
   "source": [
    "# Print the correlations\n",
    "\n",
    "# The scores on the original and modified datasets are very similar, as only a small number of\n",
    "# rows were modified. However, they are different.\n",
    "print(\"Spearman Correlation Orig to Modified IF scores: \",\n",
    "      scipy.stats.spearmanr(df_modified['IF Orig Score'], df_modified['IF Modified Score'])[0])\n",
    "\n",
    "# The IF scores (once cleaned) correlate very closely with the estimated scores produced by \n",
    "# the Doping Outlier Tester tool.\n",
    "print(\"Spearman Correlation Gain IF scores to Estimated Scores: \",\n",
    "      scipy.stats.spearmanr(df_modified['IF Gain Cleaned'], df_modified['OUTLIER SCORE'])[0])"
   ]
  },
  {
   "cell_type": "code",
   "execution_count": 10,
   "id": "29e0129d",
   "metadata": {},
   "outputs": [
    {
     "data": {
      "image/png": "[encoded data removed]",
      "text/plain": [
       "<Figure size 504x360 with 2 Axes>"
      ]
     },
     "metadata": {
      "needs_background": "light"
     },
     "output_type": "display_data"
    }
   ],
   "source": [
    "# This plots the scores. It can be seen the y are well correlated, \n",
    "# though the scores from the isolation forest are not completely \n",
    "# monotonically related to the estimated scores from the Doping \n",
    "# Outlier Tester, as expected, as the Doping Outlier Detector can\n",
    "# not estimate accurately how much more unusual a modified row will be \n",
    "# considered by any given outlier detector. \n",
    "\n",
    "df_modified = df_modified.sort_values(['OUTLIER SCORE'])\n",
    "df_modified = df_modified.reset_index()\n",
    "\n",
    "fig, ax = plt.subplots(nrows=2, ncols=1, sharex=True, sharey=False, figsize=(7, 5))\n",
    "s = sns.lineplot(x=df_modified.index, y=df_modified['IF Gain Cleaned'], color='blue', ax=ax[0])\n",
    "s = sns.lineplot(x=df_modified.index, y=df_modified['OUTLIER SCORE'], color='red', ax=ax[1])\n",
    "plt.show()"
   ]
  },
  {
   "cell_type": "code",
   "execution_count": 11,
   "id": "3377ce6f",
   "metadata": {},
   "outputs": [
    {
     "data": {
      "text/html": [
       "<div>\n",
       "<style scoped>\n",
       "    .dataframe tbody tr th:only-of-type {\n",
       "        vertical-align: middle;\n",
       "    }\n",
       "\n",
       "    .dataframe tbody tr th {\n",
       "        vertical-align: top;\n",
       "    }\n",
       "\n",
       "    .dataframe thead th {\n",
       "        text-align: right;\n",
       "    }\n",
       "</style>\n",
       "<table border=\"1\" class=\"dataframe\">\n",
       "  <thead>\n",
       "    <tr style=\"text-align: right;\">\n",
       "      <th></th>\n",
       "      <th>IF Gain Cleaned</th>\n",
       "      <th>OUTLIER SCORE</th>\n",
       "    </tr>\n",
       "  </thead>\n",
       "  <tbody>\n",
       "    <tr>\n",
       "      <th>698</th>\n",
       "      <td>0.360403</td>\n",
       "      <td>13</td>\n",
       "    </tr>\n",
       "    <tr>\n",
       "      <th>697</th>\n",
       "      <td>0.372815</td>\n",
       "      <td>9</td>\n",
       "    </tr>\n",
       "    <tr>\n",
       "      <th>696</th>\n",
       "      <td>0.152334</td>\n",
       "      <td>7</td>\n",
       "    </tr>\n",
       "    <tr>\n",
       "      <th>695</th>\n",
       "      <td>0.194779</td>\n",
       "      <td>6</td>\n",
       "    </tr>\n",
       "    <tr>\n",
       "      <th>694</th>\n",
       "      <td>0.063895</td>\n",
       "      <td>5</td>\n",
       "    </tr>\n",
       "    <tr>\n",
       "      <th>693</th>\n",
       "      <td>0.051396</td>\n",
       "      <td>4</td>\n",
       "    </tr>\n",
       "    <tr>\n",
       "      <th>692</th>\n",
       "      <td>0.038045</td>\n",
       "      <td>3</td>\n",
       "    </tr>\n",
       "    <tr>\n",
       "      <th>691</th>\n",
       "      <td>0.181342</td>\n",
       "      <td>2</td>\n",
       "    </tr>\n",
       "    <tr>\n",
       "      <th>689</th>\n",
       "      <td>0.014162</td>\n",
       "      <td>1</td>\n",
       "    </tr>\n",
       "    <tr>\n",
       "      <th>690</th>\n",
       "      <td>0.061157</td>\n",
       "      <td>1</td>\n",
       "    </tr>\n",
       "    <tr>\n",
       "      <th>466</th>\n",
       "      <td>0.000000</td>\n",
       "      <td>0</td>\n",
       "    </tr>\n",
       "    <tr>\n",
       "      <th>458</th>\n",
       "      <td>0.000000</td>\n",
       "      <td>0</td>\n",
       "    </tr>\n",
       "    <tr>\n",
       "      <th>459</th>\n",
       "      <td>0.000000</td>\n",
       "      <td>0</td>\n",
       "    </tr>\n",
       "    <tr>\n",
       "      <th>460</th>\n",
       "      <td>0.000000</td>\n",
       "      <td>0</td>\n",
       "    </tr>\n",
       "    <tr>\n",
       "      <th>461</th>\n",
       "      <td>0.000000</td>\n",
       "      <td>0</td>\n",
       "    </tr>\n",
       "    <tr>\n",
       "      <th>462</th>\n",
       "      <td>0.000000</td>\n",
       "      <td>0</td>\n",
       "    </tr>\n",
       "    <tr>\n",
       "      <th>463</th>\n",
       "      <td>0.000000</td>\n",
       "      <td>0</td>\n",
       "    </tr>\n",
       "    <tr>\n",
       "      <th>464</th>\n",
       "      <td>0.000000</td>\n",
       "      <td>0</td>\n",
       "    </tr>\n",
       "    <tr>\n",
       "      <th>465</th>\n",
       "      <td>0.000000</td>\n",
       "      <td>0</td>\n",
       "    </tr>\n",
       "    <tr>\n",
       "      <th>471</th>\n",
       "      <td>0.000000</td>\n",
       "      <td>0</td>\n",
       "    </tr>\n",
       "  </tbody>\n",
       "</table>\n",
       "</div>"
      ],
      "text/plain": [
       "     IF Gain Cleaned  OUTLIER SCORE\n",
       "698         0.360403             13\n",
       "697         0.372815              9\n",
       "696         0.152334              7\n",
       "695         0.194779              6\n",
       "694         0.063895              5\n",
       "693         0.051396              4\n",
       "692         0.038045              3\n",
       "691         0.181342              2\n",
       "689         0.014162              1\n",
       "690         0.061157              1\n",
       "466         0.000000              0\n",
       "458         0.000000              0\n",
       "459         0.000000              0\n",
       "460         0.000000              0\n",
       "461         0.000000              0\n",
       "462         0.000000              0\n",
       "463         0.000000              0\n",
       "464         0.000000              0\n",
       "465         0.000000              0\n",
       "471         0.000000              0"
      ]
     },
     "execution_count": 11,
     "metadata": {},
     "output_type": "execute_result"
    }
   ],
   "source": [
    "# Display the specific gain in IF score and estimate outlier score\n",
    "# for the 10 rows modified as well as 10 other rows. We see both\n",
    "# are non-zero in the same rows. This is not strictly true for\n",
    "# all datasets, but tends to be the case. \n",
    "\n",
    "df_modified = df_modified.sort_values(['OUTLIER SCORE'], ascending=False)\n",
    "df_modified[['IF Gain Cleaned', 'OUTLIER SCORE']].head(20)"
   ]
  },
  {
   "cell_type": "code",
   "execution_count": null,
   "id": "1955cae1",
   "metadata": {},
   "outputs": [],
   "source": []
  }
 ],
 "metadata": {
  "kernelspec": {
   "display_name": "Python 3 (ipykernel)",
   "language": "python",
   "name": "python3"
  },
  "language_info": {
   "codemirror_mode": {
    "name": "ipython",
    "version": 3
   },
   "file_extension": ".py",
   "mimetype": "text/x-python",
   "name": "python",
   "nbconvert_exporter": "python",
   "pygments_lexer": "ipython3",
   "version": "3.9.6"
  }
 },
 "nbformat": 4,
 "nbformat_minor": 5
}
